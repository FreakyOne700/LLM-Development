{
 "cells": [
  {
   "cell_type": "code",
   "execution_count": 1,
   "id": "ffadbc21",
   "metadata": {},
   "outputs": [],
   "source": [
    "from langchain_ollama.llms import OllamaLLM\n",
    "model = OllamaLLM(model=\"deepseek-r1:7b\", temperature=0.1)"
   ]
  },
  {
   "cell_type": "code",
   "execution_count": 3,
   "id": "6927166a",
   "metadata": {},
   "outputs": [],
   "source": [
    "from langchain_core.output_parsers import StrOutputParser\n",
    "from langchain_core.prompts import ChatPromptTemplate\n",
    "\n",
    "prompt = ChatPromptTemplate.from_template(\"tell me a curious fact about {politician}\")\n",
    "\n",
    "chain = prompt | model | StrOutputParser()"
   ]
  },
  {
   "cell_type": "code",
   "execution_count": 4,
   "id": "83806803",
   "metadata": {},
   "outputs": [
    {
     "data": {
      "text/plain": [
       "\"<think>\\nOkay, so I need to find a curious fact about JFK. Hmm, I remember he was the president who was killed. But what else? Maybe something about his life or career.\\n\\nWait, I think there's something about him and the ocean. Wasn't there an incident where he fell into water? Let me try to recall. Oh yeah! He had a heart condition called mitral stenosis when he was young. That meant he couldn't open his heart valves properly, so blood rushed through them instead of flowing normally.\\n\\nI think this caused him to have chest pain and trouble breathing. So, maybe that's why he fell into the water during a swim in 1946. It makes sense because he wasn't in great shape due to his health issues.\\n\\nBut how did they know he had heart problems? I remember something about him having surgery or tests when he was younger. Maybe they found out later that he had this condition, which contributed to his early death from overwork and stress.\\n\\nSo putting it all together: JFK had a heart issue in childhood, which led to chest pain and breathing difficulties. This might have been the cause of his early death by drowning while swimming at a young age.\\n</think>\\n\\nJFK's health issues began in his youth when he was diagnosed with mitral stenosis, a condition that affected his heart valves. This caused him to experience chest pain and difficulty breathing. Unfortunately, this pre-existing condition contributed to his early death from overwork and stress, as evidenced by his fatal drowning at the young age of 39 while swimming in 1946.\\n\\n**Curious Fact:** JFK's mitral stenosis was discovered later in his life, after he had already experienced chest pain and difficulty breathing, which may have worsened his condition.\""
      ]
     },
     "execution_count": 4,
     "metadata": {},
     "output_type": "execute_result"
    }
   ],
   "source": [
    "chain.invoke({\"politician\": \"JFK\"})"
   ]
  },
  {
   "cell_type": "code",
   "execution_count": 5,
   "id": "b7539f23",
   "metadata": {},
   "outputs": [
    {
     "name": "stderr",
     "output_type": "stream",
     "text": [
      "C:\\Users\\shara\\AppData\\Local\\Temp\\ipykernel_13900\\1841342863.py:5: LangChainDeprecationWarning: The class `LLMChain` was deprecated in LangChain 0.1.17 and will be removed in 1.0. Use :meth:`~RunnableSequence, e.g., `prompt | llm`` instead.\n",
      "  traditional_chain = LLMChain(\n"
     ]
    },
    {
     "data": {
      "text/plain": [
       "'<think>\\nOkay, so I need to find out something interesting or curious about Maradona. Hmm, I know he\\'s a famous Argentine footballer, but beyond that, what exactly makes him stand out? Let me think... Oh right, he was known for his incredible skills and maybe some unique traits.\\n\\nWait, I remember hearing something about him having a very specific way of scoring goals. Wasn\\'t there a particular spot on the field where he liked to shoot from? Maybe near the penalty area or somewhere else? And how did that help him?\\n\\nOh yeah! I think it was near the top-left corner of the pitch. That\\'s an unusual place for a striker, right? Most players go for the center because it\\'s easier to score there, but Maradona used that side instead. It must have been challenging because defenders would expect him to come from the other direction.\\n\\nWhy did he do this? Maybe it was to confuse defenders or avoid being marked by them. That makes sense; if you\\'re coming from an unexpected place, it\\'s harder for opponents to track you down. Plus, scoring from that spot might be more difficult because of the angle and the distance, but I guess his skills made it possible.\\n\\nI should also consider other aspects like his nicknames or memorable moments. He was called \"The Maradona\" by many fans, which is pretty cool. Also, he won a lot of titles, including World Cup medals, so that\\'s another point to mention.\\n\\nPutting it all together, the curious fact would be about him shooting from the top-left corner instead of the center and how that strategy contributed to his scoring prowess despite the difficulty.\\n</think>\\n\\nA fascinating curiosity about Maradona is his unique shooting strategy. He predominantly scored goals from the top-left corner of the pitch, an unconventional spot for a striker. This approach was intentional; it confused defenders, making it harder for opponents to track him down. Despite the challenging angle and distance, his exceptional skills allowed him to convert these opportunities into goals effectively. This tactic contributed to his reputation as one of the most skilled players in football history.'"
      ]
     },
     "execution_count": 5,
     "metadata": {},
     "output_type": "execute_result"
    }
   ],
   "source": [
    "from langchain.chains import LLMChain\n",
    "\n",
    "prompt = ChatPromptTemplate.from_template(\"tell me a curious fact about {soccer_player}\")\n",
    "\n",
    "traditional_chain = LLMChain(\n",
    "    llm=model,\n",
    "    prompt=prompt\n",
    ")\n",
    "\n",
    "traditional_chain.predict(soccer_player=\"Maradona\")"
   ]
  },
  {
   "cell_type": "code",
   "execution_count": 6,
   "id": "0583b48e",
   "metadata": {},
   "outputs": [
    {
     "data": {
      "text/plain": [
       "'<think>\\nOkay, so I need to find out a curious fact about Cristiano Ronaldo. Hmm, where do I start? Well, I know he\\'s a famous footballer, but beyond that, what specific things make him stand out?\\n\\nFirst off, I remember hearing something about his height. Is he really tall? Maybe around 6 feet or more? That would be interesting because most people are shorter than that. Let me think... Yes, I believe he is over six feet tall. How does that affect his gameplay? Maybe it helps with headers or crossing the ball?\\n\\nWait, there\\'s also something about his weight. I\\'ve heard he\\'s very muscular and heavy. Does that give him an advantage in certain aspects of the game? Perhaps in penalty shootouts where strength might matter.\\n\\nOh, and I think he has a nickname. Something like \"The King\" or \"The Black shirt.\" I\\'m not entirely sure which one is correct, but it would be cool to know his stage name too.\\n\\nAnother thing that comes to mind is his relationship with Manchester United. He\\'s been linked with various clubs, including Real Madrid and Chelsea. Maybe he\\'s had a lot of moves in the past few years? How does that affect his career trajectory?\\n\\nAlso, I remember something about him having multiple nicknames or stage names. Maybe he has more than one? Or perhaps he\\'s known by different names in different countries.\\n\\nI should also consider his awards and achievements. He must have won a lot of titles like the Ballon d\\'Or or the Puskas Award. How many has he won? That could be another interesting fact.\\n\\nWait, I think he\\'s involved with charity work as well. Does he donate to various causes or support certain organizations? Maybe that adds depth to his public persona beyond just being a footballer.\\n\\nPutting it all together, maybe one of these facts is particularly curious. For example, his height and how it impacts his gameplay, his nickname(s), his weight compared to other players, his move history with Manchester United, or his charity work. I need to pick the most intriguing aspect that stands out as a unique trait about him.\\n\\nI think his height being over six feet is pretty curious because it\\'s not common among professional athletes, especially in football where most players are around 5\\'8\" to 5\\'10\". That could give him an edge in certain skills like headers or crossing the ball from a distance. Plus, it\\'s impressive just on a physicality standpoint.\\n\\nAlternatively, his nickname \"Cristiano Ronaldo\" is straightforward, but maybe he has another stage name that fans refer to him by? Or perhaps there\\'s something about how he handles criticism or his perseverance in the face of challenges.\\n\\nI should also check if there are any lesser-known facts. For example, does he have a particular way he carries himself, like with his hands or posture? Maybe he uses a specific technique when passing or dribbling that\\'s unique because of his height and build.\\n\\nAnother angle could be his impact on the game beyond just playing—like how he influences tactics or inspires young players. Or perhaps there\\'s something about his diet or exercise routine that contributes to his physical presence.\\n\\nWait, I think I remember reading that he has a very strong first leg, which might help him in penalty shootouts where strength is needed. That could be another interesting fact because it ties into his overall physique and how it benefits him on the field.\\n\\nSo, considering all these points, maybe the height being over six feet is one of the most curious facts about him. It\\'s a unique physical trait that sets him apart from other players and gives him an advantage in specific areas of play.\\n</think>\\n\\nCristiano Ronaldo, known as \"The King\" or \"The Black shirt,\" stands out among footballers for his impressive height of over six feet (182 cm). This distinctive physical presence significantly impacts his gameplay, particularly enhancing his ability to header the ball and perform long-distance crosses. His height also contributes to his presence on the field, making him a standout figure in both international and domestic competitions. Additionally, his nickname \"Cristiano Ronaldo\" is widely recognized, though he may have other stage names or personas that fans refer to him by, adding depth to his public persona beyond his footballing career.'"
      ]
     },
     "execution_count": 6,
     "metadata": {},
     "output_type": "execute_result"
    }
   ],
   "source": [
    "chain = prompt | model | StrOutputParser()\n",
    "\n",
    "chain.invoke({\"soccer_player\": \"Ronaldo\"})"
   ]
  },
  {
   "cell_type": "code",
   "execution_count": 7,
   "id": "4f8a68c9",
   "metadata": {},
   "outputs": [
    {
     "data": {
      "text/plain": [
       "'<think>\\nOkay, so I need to find out a curious fact about Cristiano Ronaldo. Hmm, where do I start? Well, I know he\\'s a famous footballer, but beyond that, what specific things make him stand out?\\n\\nLet me think... He plays for Manchester United, right? But wait, isn\\'t he also with Portugal? Yeah, he\\'s the national team player too. Maybe there\\'s something about his career highlights.\\n\\nOh! I remember hearing that he has a lot of records. How many World Cup titles does he have? Wait, no, he didn\\'t win any. He was part of the 2006 World Cup team, but they lost to Germany. So maybe it\\'s something else.\\n\\nWhat about his record with Manchester United? I think he\\'s played for them since 2003 or so. How many goals has he scored there? Maybe around 150-something? That seems high, but I\\'m not sure of the exact number.\\n\\nOh, and he\\'s got a lot of yellow cards. I\\'ve heard that he gets ejected from matches sometimes because of his discipline. Maybe he\\'s only one player with multiple ejections in the Premier League?\\n\\nAlso, he has a nickname or something unique called by fans? I think it\\'s \"The King\" or maybe \"The Black shirt.\" Wait, no, that might be someone else.\\n\\nHis contract extension is another point. He was linked with a huge contract before his last season. Maybe around £100 million per year or more?\\n\\nAnd what about his overall career awards? How many FA cups has he won? I think it\\'s two, but I\\'m not certain.\\n\\nWait, putting this all together: Cristiano Ronaldo is the only player to have scored 150 goals for Manchester United. That seems like a solid fact because scoring that many in one club would be an incredible achievement. Plus, it ties into his overall career statistics and legacy as one of the best players ever.\\n\\nI should double-check some numbers to make sure I\\'m accurate. Let me think: Manchester United\\'s record for goals by a single player... Yes, Ronaldo has 152 goals since joining in 2003. That\\'s correct. So that\\'s definitely a curious fact because it highlights his consistency and impact at the club.\\n\\nAlso, considering he\\'s played in over 400 matches with around 150 goals, that\\'s an average of nearly one goal every two games or so. That\\'s impressive and shows his efficiency on the field.\\n\\nSo yeah, combining all these points, I can confidently say that it\\'s a curious fact about Ronaldo that he holds the record for the most goals scored by a single player at Manchester United.\\n</think>\\n\\nCristiano Ronaldo holds the remarkable distinction of being the only player to have scored 152 goals for Manchester United since joining in 2003. This achievement underscores his exceptional consistency and impact during his time at Old Trafford, contributing significantly to his legacy as one of the most influential footballers ever.'"
      ]
     },
     "execution_count": 7,
     "metadata": {},
     "output_type": "execute_result"
    }
   ],
   "source": [
    "prompt = ChatPromptTemplate.from_template(\"tell me a curious fact about {soccer_player}\")\n",
    "\n",
    "output_parser = StrOutputParser()\n",
    "\n",
    "chain = prompt | model | output_parser\n",
    "\n",
    "chain.invoke({\"soccer_player\": \"Ronaldo\"})"
   ]
  },
  {
   "cell_type": "code",
   "execution_count": 8,
   "id": "00b5c947",
   "metadata": {},
   "outputs": [
    {
     "name": "stdout",
     "output_type": "stream",
     "text": [
      "<think>\n",
      "Okay, so I need to find out a curious fact about Cristiano Ronaldo. Hmm, where do I start? Well, I know he's a famous footballer, but beyond that, what specific things make him stand out?\n",
      "\n",
      "I remember hearing something about his nicknames or stage names. Maybe he has one? Let me think... Oh yeah! He used to go by the name Zidane B smash. Wait, why is that nickname so cool? I guess it's because of how he plays with a lot of flair and maybe some tricks on the ball.\n",
      "\n",
      "Also, I think he's got a pretty impressive record in terms of records. How many records does he hold? I believe it's around 80 or something like that. Maybe including goals, assists, and other achievements. That must be a huge number for someone who plays regularly.\n",
      "\n",
      "Oh, and he's played for some top clubs. Which ones come to mind? Real Madrid is one because of his nickname. Then there's Manchester United where he was the all-time goalscorer before Zidane came along. He also played for Inter Milan, which is in Italy. So that's a few big clubs.\n",
      "\n",
      "Wait, I think he's won some major trophies too. Like the Ballon d'Or, which is like the best player award in Europe. He probably has multiple of those. Maybe even a Champions League title or two? Or an UEFA European Championship?\n",
      "\n",
      "Another thing might be his versatility on the field. Does he play different positions? I think he can play as a striker, winger, maybe even central midfield sometimes. That must make him very valuable to a team because they don't have to rotate players as much.\n",
      "\n",
      "Oh, and his physicality! He's known for being strong and making tackles that are hard to stop. Maybe that's why he's such a dominant force in the game. Plus, his work ethic is legendary; I've heard stories about how he never stops training even when he's retired.\n",
      "\n",
      "Wait, but does he have any other nicknames besides Zidane B smash? I think he also called himself \"The King\" sometimes or something like that. Or maybe \"The Black shirt\"? No, that might be someone else. Maybe \"The Real Madrid Man\"?\n",
      "\n",
      "Also, considering his impact on the game beyond just playing, he's probably a huge inspiration for young players and fans worldwide. His dedication and passion must inspire millions.\n",
      "\n",
      "So putting it all together: he has over 80 records in football, holds them with both feet (I think), plays for multiple top clubs like Real Madrid, Manchester United, Inter Milan, won major trophies, has a nickname that's both cool and descriptive of his style, is versatile on the field, and has an incredible work ethic. Plus, he's a role model to many.\n",
      "\n",
      "Wait, I should double-check some facts because I might be mixing things up. For example, how many records does he have? I think it's around 80 or more. Also, his ability to play with both feet is something that sets him apart; maybe he can score from different positions using both legs.\n",
      "\n",
      "His nicknames: Zidane B smash because of the Madrid nickname and his style. Maybe \"The Ball\" as well? Or perhaps \"The King of Madrid.\" I'm not entirely sure about all the nicknames, but Zidane is definitely one of them.\n",
      "\n",
      "In terms of clubs, he's been linked with Real Madrid a lot due to his nickname, Manchester United because he was their top scorer for a long time, and Inter Milan as a youth player. So that's three main clubs where he played.\n",
      "\n",
      "Trophies-wise, he has won the Ballon d'Or multiple times, probably around 10 or so. He also won the Champions League twice with Real Madrid, I think. Or was it three? Maybe once with United and two with Real Madrid. And he might have won the European Championship as well.\n",
      "\n",
      "His versatility: playing in different positions shows his adaptability and skill on the field. That must make him a very sought-after player but also someone who can fit into various team structures, which is rare.\n",
      "\n",
      "Physicality: He's known for making tough tackles that are hard to stop, so he's not just a goalscorer but also a physical presence in the game. That probably contributes to his ability to score and defend.\n",
      "\n",
      "Work ethic: I've heard that he's extremely dedicated and continues training even after he retired from international football. That's impressive because it shows commitment beyond just playing.\n",
      "\n",
      "In summary, Cristiano Ronaldo is famous for having over 80 records in football, holding them with both feet, playing for top clubs like Real Madrid, Manchester United, and Inter Milan, winning major trophies, having a nickname that reflects his style (Zidane B smash), being versatile on the field, and having an incredible work ethic. All of these make him one of the most iconic players in football history.\n",
      "</think>\n",
      "\n",
      "Cristiano Ronaldo is a towering figure in the world of football, celebrated for his remarkable achievements and unique contributions to the sport. Here are some key points that highlight his legacy:\n",
      "\n",
      "1. **Multiple Records**: Ronaldo holds over 80 records in football, many of which are still unbroken. These include goals scored, assists made, and other statistical milestones.\n",
      "\n",
      "2. **Versatility on the Field**: Known for his versatility, Ronaldo can play as a striker, winger, or central midfielder, showcasing his adaptability and skill.\n",
      "\n",
      "3. **Physical Presence**: His physicality is evident in his tough tackles, which are difficult to stop, contributing to both his defensive contributions and scoring ability.\n",
      "\n",
      "4. **Work Ethic**: Ronaldo's dedication is legendary; he continues to train even after his retirement from international football, demonstrating unwavering commitment.\n",
      "\n",
      "5. **Trophies and Honors**: He has won major trophies such as the Ballon d'Or multiple times, the Champions League twice with Real Madrid, and the UEFA European Championship.\n",
      "\n",
      "6. **Nicknames and Style**: His nickname \"Zidane B smash\" reflects his style of play and his association with Real Madrid (\"Zidane\"). He is also known for his ability to score from various positions using both legs.\n",
      "\n",
      "7. **Clubs Played For**: Ronaldo has been linked with some of the top clubs in Europe, including Real Madrid, Manchester United, and Inter Milan, showcasing his versatility across different teams.\n",
      "\n",
      "8. **Inspiration**: Beyond his on-field achievements, Ronaldo is a role model to millions, inspiring young players and fans worldwide with his passion and dedication.\n",
      "\n",
      "Cristiano Ronaldo's combination of exceptional talent, work ethic, and influence makes him one of the most celebrated players in football history."
     ]
    }
   ],
   "source": [
    "for s in chain.stream({\"soccer_player\": \"Ronaldo\"}):\n",
    "    print(s, end=\"\", flush=True)"
   ]
  },
  {
   "cell_type": "code",
   "execution_count": 9,
   "id": "6a293a76",
   "metadata": {},
   "outputs": [
    {
     "data": {
      "text/plain": [
       "['<think>\\nOkay, so I need to find a curious fact about Cristiano Ronaldo. Hmm, let\\'s see... I know he\\'s a famous footballer, but what kind of interesting tidbit can I share? Maybe something about his career or personal life that\\'s not commonly known.\\n\\nI remember hearing that he has a lot of nicknames and stage names. Some are pretty cool-sounding. For example, \"Zidane\" comes to mind because it sounds French, which might be from his early days playing for Real Madrid. But I think there\\'s another nickname related to an animal or something else.\\n\\nWait, isn\\'t there a nickname that means \"the king\"? That would make sense given how he\\'s often addressed in football circles. Maybe \"The King\" is one of them. So combining those two ideas, maybe his full stage name includes both Zidane and The King?\\n\\nI think his real name is Fernando Hierro, but he changed it to include these nicknames. So perhaps his full stage name is Fernando Hierro Zidane The King. That sounds right because I\\'ve heard him referred to as \"Zidane The King\" before.\\n\\nLet me double-check that. Cristiano Ronaldo\\'s full name is indeed Fernando Hierro, and he adopted the nickname Zidane after moving to Real Madrid in 2001. Then later, people started calling him \"The King,\" which became part of his stage name. So putting it all together, his full stage name would be Fernando Hierro Zidane The King.\\n\\nThat\\'s a neat combination! It makes sense because both Zidane and The King are well-known nicknames associated with him. I think this fact is interesting enough to share as a curious tidbit about Ronaldo.\\n</think>\\n\\nCristiano Ronaldo, known affectionately as \"Zidane The King,\" has a unique and memorable stage name that combines his early nickname from Real Madrid (\"Zidane\") with another popular moniker (\"The King\"). His full stage name is Fernando Hierro Zidane The King. This combination reflects the cool and sophisticated image he often presents on the football field, blending both his professional heritage and contemporary persona into a distinctive identity.',\n",
       " \"<think>\\nOkay, so I need to find out a curious fact about Lionel Messi. Hmm, where do I start? I know he's a famous footballer, but beyond that, what specific things make him stand out?\\n\\nWell, first off, I remember he won the FIFA Ballon d'Or multiple times. That must be impressive—like five or six times. But why is that significant? Maybe it shows his widespread influence and respect in the sport.\\n\\nThen there's his goal-scoring record. He has over 200 goals, right? That's a lot for a player who's been around for almost two decades. I wonder how he managed to score so many despite playing in different leagues and countries. Maybe his versatility helped him adapt well wherever he played.\\n\\nOh, and he's played for some top clubs like Barcelona, Inter Milan, and maybe even Liverpool? Wait, no, Liverpool is a bit further down the list. He started with Barcelona from 2001 to 2009, then moved to Inter Milan until 2015, and then to Liverpool until 2023 or something like that.\\n\\nHe's also won several World Cups, including two with Argentina in 2014 and one solo with France in 2018. That's a huge achievement because winning the World Cup is such a big deal.\\n\\nI think he's also been involved in some record-breaking achievements beyond goals and titles. Maybe something like his assist-to-goal ratio or how many penalty conversions he has? I'm not sure about that, but it might be worth looking into.\\n\\nAnother thing could be his versatility on the field—playing as a striker, midfield, or even as an attacking midfielder. That adaptability probably helped him stay relevant longer and in more positions.\\n\\nAlso, considering his age, 38 years old when I'm writing this (assuming current year is around 2023), he's still very active and successful. That must be amazing for a player who's been playing since the early 2000s.\\n\\nI should also think about his impact on the sport beyond just being a player—maybe his influence as a coach, his media presence, or how he inspires young players. He's had a huge following globally, so that's another layer to his success.\\n\\nWait, I'm supposed to find one curious fact. Maybe combining some of these points into one interesting tidbit. For example, his ability to play in multiple positions and still maintain high scoring output across different leagues could be a curious fact because it shows his adaptability and skill level.\\n\\nAlternatively, the fact that he's won five Ballon d'Or awards is pretty impressive because only a handful of players have done that. It reflects his consistent excellence throughout his career.\\n\\nI think I'll go with something about his record-breaking goals or his multiple World Cup wins as those are quite notable and might not be immediately obvious to everyone.\\n</think>\\n\\nLionel Messi, often regarded as one of the most influential footballers in history, holds several remarkable records that highlight his extraordinary talent and dedication. One of his most impressive achievements is scoring over 200 goals across his illustrious career, a feat achieved despite playing in various leagues and countries, showcasing his adaptability and skill. Additionally, Messi has claimed five FIFA Ballon d'Or awards, a testament to his consistent excellence and widespread influence in the sport. Furthermore, he has won two World Cup titles with Argentina and one solo World Cup with France, solidifying his status as a footballing legend. His ability to maintain such high standards across different formats and leagues underscores his versatility and enduring impact on the game.\"]"
      ]
     },
     "execution_count": 9,
     "metadata": {},
     "output_type": "execute_result"
    }
   ],
   "source": [
    "chain.batch([{\"soccer_player\": \"Ronaldo\"}, {\"soccer_player\": \"Messi\"}])"
   ]
  },
  {
   "cell_type": "code",
   "execution_count": 10,
   "id": "cd4e86c4",
   "metadata": {},
   "outputs": [],
   "source": [
    "from langchain_core.runnables import RunnablePassthrough\n",
    "\n",
    "chain = RunnablePassthrough()"
   ]
  },
  {
   "cell_type": "code",
   "execution_count": 11,
   "id": "ed57059e",
   "metadata": {},
   "outputs": [
    {
     "data": {
      "text/plain": [
       "'shar'"
      ]
     },
     "execution_count": 11,
     "metadata": {},
     "output_type": "execute_result"
    }
   ],
   "source": [
    "chain.invoke(\"shar\")"
   ]
  },
  {
   "cell_type": "code",
   "execution_count": 12,
   "id": "5b7f90a3",
   "metadata": {},
   "outputs": [],
   "source": [
    "def russian_lastname(name: str) -> str:\n",
    "    return f\"{name}ovich\"\n",
    "\n",
    "\n",
    "from langchain_core.runnables import RunnableLambda\n",
    "\n",
    "chain = RunnablePassthrough() | RunnableLambda(russian_lastname)"
   ]
  },
  {
   "cell_type": "code",
   "execution_count": 13,
   "id": "d2767a21",
   "metadata": {},
   "outputs": [
    {
     "data": {
      "text/plain": [
       "'sharovich'"
      ]
     },
     "execution_count": 13,
     "metadata": {},
     "output_type": "execute_result"
    }
   ],
   "source": [
    "\n",
    "chain.invoke(\"shar\")"
   ]
  },
  {
   "cell_type": "code",
   "execution_count": 14,
   "id": "8ccdbf38",
   "metadata": {},
   "outputs": [],
   "source": [
    "from langchain_core.runnables import RunnableParallel\n",
    "\n",
    "chain = RunnableParallel(\n",
    "    {\n",
    "        \"operation_a\": RunnablePassthrough(),\n",
    "        \"operation_b\": RunnableLambda(russian_lastname)\n",
    "    }\n",
    ")"
   ]
  },
  {
   "cell_type": "code",
   "execution_count": 15,
   "id": "97aa1fa1",
   "metadata": {},
   "outputs": [
    {
     "data": {
      "text/plain": [
       "{'operation_a': 'shar', 'operation_b': 'sharovich'}"
      ]
     },
     "execution_count": 15,
     "metadata": {},
     "output_type": "execute_result"
    }
   ],
   "source": [
    "chain.invoke(\"shar\")"
   ]
  },
  {
   "cell_type": "code",
   "execution_count": 16,
   "id": "266b86d6",
   "metadata": {},
   "outputs": [],
   "source": [
    "from langchain_core.output_parsers import StrOutputParser\n",
    "from langchain_core.prompts import ChatPromptTemplate\n",
    "\n",
    "prompt = ChatPromptTemplate.from_template(\"tell me a curious fact about {soccer_player}\")\n",
    "\n",
    "output_parser = StrOutputParser()"
   ]
  },
  {
   "cell_type": "code",
   "execution_count": 17,
   "id": "beceab64",
   "metadata": {},
   "outputs": [
    {
     "data": {
      "text/plain": [
       "'<think>\\nOkay, so I need to find out something interesting or curious about Abramovich. Let\\'s start by thinking about who he is. From what I remember, he\\'s someone involved in the financial world, maybe Wall Street? I think he was part of some big investment firm called Renaissance Technologies. Oh right, they\\'re known for their quantitative trading strategies.\\n\\nWait, but why would that be curious? Maybe because he\\'s controversial or has done something significant. I\\'ve heard terms like \"black-swan\" before; wasn\\'t he involved in something with that term? Or maybe he\\'s linked to some illegal activities? I\\'m not sure. Let me try to recall more details.\\n\\nI think he was the CEO of Renaissance Technologies, which is a hedge fund company. They\\'re famous for their Medallion Fund, right? That\\'s supposed to be one of the most successful hedge funds ever. But beyond that, I don\\'t remember much else about him personally.\\n\\nWait, maybe there\\'s more to his background. I think he has some ties to organized crime or something illegal. Wasn\\'t there a movie or article about him where they talked about his shady past? Maybe he had some connections with drug cartels or something like that?\\n\\nAlso, I remember hearing that he was involved in the collapse of Lehman Brothers during the 2008 financial crisis. Did he make any deals that contributed to that? Or maybe he was a key figure in some other financial scandal.\\n\\nAnother angle: perhaps he\\'s involved in alternative investments or has made significant donations. I\\'m not sure, but it might be worth looking into his philanthropy as well.\\n\\nWait, I think he\\'s also known for his controversial statements and public appearances. Maybe he\\'s been in the news for speaking out against certain policies or companies. Or perhaps he\\'s had some public battles with other executives over pay packages or company practices.\\n\\nI\\'m trying to piece together different fragments of information. He was a billionaire, right? So maybe there\\'s something about his net worth or how he amassed his wealth beyond just the hedge funds.\\n\\nOh, and I think he has some ties to the tech industry as well. Maybe he\\'s involved in some startups or has invested in certain companies that became prominent later on.\\n\\nWait, putting it all together: Abramovich was a billionaire CEO of Renaissance Technologies, known for his quantitative models and success with the Medallion Fund. He also had connections to organized crime and was involved in high-profile financial transactions like the Lehman Brothers collapse. Additionally, he\\'s faced legal troubles and has made controversial statements.\\n\\nSo, putting this into a coherent fact: Abramovich was a billionaire CEO of Renaissance Technologies, known for his role in the Medallion Fund and his controversial ties to organized crime and high-stakes finance.\\n</think>\\n\\nAbramovich, the billionaire CEO of Renaissance Technologies, gained fame for his leadership of the Medallion Fund, renowned for its successful quantitative trading strategies. However, he is also known for controversial connections to organized crime and high-profile financial transactions, including involvement in the collapse of Lehman Brothers during the 2008 financial crisis. His business dealings have led to legal complications and public criticism regarding his statements and actions.'"
      ]
     },
     "execution_count": 17,
     "metadata": {},
     "output_type": "execute_result"
    }
   ],
   "source": [
    "def russian_lastname_from_dictionary(person):\n",
    "    return person[\"name\"] + \"ovich\"\n",
    "\n",
    "chain = RunnableParallel(\n",
    "    {\n",
    "        \"operation_a\": RunnablePassthrough(),\n",
    "        \"soccer_player\": RunnableLambda(russian_lastname_from_dictionary),\n",
    "        \"operation_c\": RunnablePassthrough(),\n",
    "    }\n",
    ") | prompt | model | output_parser\n",
    "\n",
    "chain.invoke({\n",
    "    \"name1\": \"Jordam\",\n",
    "    \"name\": \"Abram\"\n",
    "})"
   ]
  },
  {
   "cell_type": "code",
   "execution_count": null,
   "id": "a8fed7ae",
   "metadata": {},
   "outputs": [],
   "source": []
  }
 ],
 "metadata": {
  "kernelspec": {
   "display_name": "base",
   "language": "python",
   "name": "python3"
  },
  "language_info": {
   "codemirror_mode": {
    "name": "ipython",
    "version": 3
   },
   "file_extension": ".py",
   "mimetype": "text/x-python",
   "name": "python",
   "nbconvert_exporter": "python",
   "pygments_lexer": "ipython3",
   "version": "3.12.7"
  }
 },
 "nbformat": 4,
 "nbformat_minor": 5
}
