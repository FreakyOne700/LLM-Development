{
 "cells": [
  {
   "cell_type": "code",
   "execution_count": 2,
   "id": "fd4cc0d2",
   "metadata": {},
   "outputs": [],
   "source": [
    "from langchain_ollama.llms import OllamaLLM\n",
    "\n",
    "model = OllamaLLM(model=\"deepseek-r1:7b\", temperature=0.1)"
   ]
  },
  {
   "cell_type": "code",
   "execution_count": 3,
   "id": "11ba8b2d",
   "metadata": {},
   "outputs": [
    {
     "name": "stdout",
     "output_type": "stream",
     "text": [
      "{'answer': \"Python is an interpreted programming language that is often referred to as 'executable pseudocode' due to its readability and ease of use. Created by Guido van Rossum in 1989, Python is known for its clean syntax and versatility, supporting multiple programming paradigms including procedural, object-oriented, and functional programming. It is widely used in web development, data analysis, machine learning, artificial intelligence, scripting, automation, and more. Its open-source nature, coupled with a large community of developers contributing to its improvement, makes it one of the most popular languages globally.\", 'reasoning': \"Python's design emphasizes readability and simplicity, making it an excellent choice for both beginners and experienced programmers. Its extensive standard library and third-party packages provide developers with powerful tools for various tasks without the need for complex setup. Python's versatility allows it to be used in a wide range of applications, from building web applications to developing machine learning models. Additionally, its active development and continuous updates ensure that it remains relevant and cutting-edge in the ever-evolving field of software development.\"}\n"
     ]
    }
   ],
   "source": [
    "from langchain_core.prompts import ChatPromptTemplate\n",
    "from langchain.output_parsers.json import SimpleJsonOutputParser\n",
    "\n",
    "json_prompt = ChatPromptTemplate.from_template(\n",
    "    \"Return a json object with an 'answer' key and a 'reasoning' key that answers the question : {question} \"\n",
    ")\n",
    "\n",
    "json_parser = SimpleJsonOutputParser()\n",
    "\n",
    "json_chain = json_prompt | model | json_parser\n",
    "\n",
    "res = json_chain.invoke({\"question\": \"What is Python Programming Language?\"})\n",
    "\n",
    "print(res)"
   ]
  },
  {
   "cell_type": "markdown",
   "id": "6f98ff12",
   "metadata": {},
   "source": [
    "## Pydantic\n"
   ]
  },
  {
   "cell_type": "code",
   "execution_count": 5,
   "id": "9399b271",
   "metadata": {},
   "outputs": [],
   "source": [
    "from langchain_core.output_parsers import JsonOutputParser\n",
    "from langchain_core.prompts import PromptTemplate\n",
    "from pydantic import BaseModel, Field\n"
   ]
  },
  {
   "cell_type": "code",
   "execution_count": 6,
   "id": "2e104553",
   "metadata": {},
   "outputs": [],
   "source": [
    "class Answer(BaseModel):\n",
    "    answer: str = Field(description=\"The answer to the question\")\n",
    "    reasoning: str = Field(description=\"The reasoning behind the answer\")\n",
    "    "
   ]
  },
  {
   "cell_type": "code",
   "execution_count": 10,
   "id": "f42444e9",
   "metadata": {},
   "outputs": [],
   "source": [
    "parser = JsonOutputParser(pydantic_object=Answer)\n",
    "\n",
    "prompt = PromptTemplate(\n",
    "    input_variables=[\"question\"],\n",
    "    template=\"\"\"\n",
    "You are a helpful assistant.\n",
    "\n",
    "Answer the following question strictly as a valid JSON object with two keys:\n",
    "- \"answer\" (string)\n",
    "- \"reasoning\" (string)\n",
    "\n",
    "Return only the JSON object and nothing else.\n",
    "\n",
    "Question: {question}\n",
    "\"\"\",partial_variables={\"format_instructions\": parser.get_format_instructions()},\n",
    ")\n",
    "\n",
    "chain = prompt | model | parser\n",
    "res = chain.invoke({\"question\": \"What is Python Programming Language?\"})\n"
   ]
  },
  {
   "cell_type": "code",
   "execution_count": 11,
   "id": "3da00394",
   "metadata": {},
   "outputs": [
    {
     "name": "stdout",
     "output_type": "stream",
     "text": [
      "{'answer': 'Python Programming Language', 'reasoning': \"Python is an interpreted, dynamically typed programming language known for its simplicity and readability. Created by Guido van Rossum in the late 1980s, it has become widely popular due to its versatility in various applications including web development, data analysis, machine learning, scripting, and network security. Python's dynamic typing allows variables to hold any type of data without explicit declaration, supporting duck typing for runtime variable checks. Its extensive library ecosystem, ease of use, and support for frameworks like Django and Flask make it a favorite among developers in multiple fields.\"}\n"
     ]
    }
   ],
   "source": [
    "print(res)"
   ]
  },
  {
   "cell_type": "code",
   "execution_count": null,
   "id": "e43e8d92",
   "metadata": {},
   "outputs": [],
   "source": []
  }
 ],
 "metadata": {
  "kernelspec": {
   "display_name": "base",
   "language": "python",
   "name": "python3"
  },
  "language_info": {
   "codemirror_mode": {
    "name": "ipython",
    "version": 3
   },
   "file_extension": ".py",
   "mimetype": "text/x-python",
   "name": "python",
   "nbconvert_exporter": "python",
   "pygments_lexer": "ipython3",
   "version": "3.12.7"
  }
 },
 "nbformat": 4,
 "nbformat_minor": 5
}
