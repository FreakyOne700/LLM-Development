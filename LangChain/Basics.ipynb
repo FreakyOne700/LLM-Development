{
 "cells": [
  {
   "cell_type": "markdown",
   "id": "99b73fa3",
   "metadata": {},
   "source": [
    "# Initialize\n"
   ]
  },
  {
   "cell_type": "code",
   "execution_count": 21,
   "id": "5f83bab8",
   "metadata": {},
   "outputs": [],
   "source": [
    "import re \n",
    "\n",
    "deepseek = 'deepseek-r1:7b'\n",
    "qwen = 'qwen2.5-coder:latest'\n",
    "\n",
    "\n",
    "def remove_think(text):\n",
    "    \"\"\"Remove the 'Let's think step by step.' part from the text.\"\"\"\n",
    "    return re.sub(r\"<think>.*?</think>\", \"\", text, flags=re.DOTALL).strip()"
   ]
  },
  {
   "cell_type": "code",
   "execution_count": 22,
   "id": "1927fceb",
   "metadata": {},
   "outputs": [],
   "source": [
    "from langchain_core.prompts import ChatPromptTemplate\n",
    "from langchain_ollama.llms import OllamaLLM"
   ]
  },
  {
   "cell_type": "code",
   "execution_count": 23,
   "id": "4d2bd28f",
   "metadata": {},
   "outputs": [
    {
     "name": "stdout",
     "output_type": "stream",
     "text": [
      "The capital of France is Paris.\n"
     ]
    }
   ],
   "source": [
    "template = \"\"\"Question: {question}\n",
    "Answer: Let's think step by step.\"\"\"\n",
    "\n",
    "prompt = ChatPromptTemplate.from_template(template)\n",
    "model = OllamaLLM(model=deepseek, temperature=0.1)\n",
    "\n",
    "chain = prompt | model\n",
    "out = chain.invoke({\"question\": \"What is the capital of France?\"})\n",
    "\n",
    "print(remove_think(out))\n"
   ]
  },
  {
   "cell_type": "code",
   "execution_count": 24,
   "id": "4de3e279",
   "metadata": {},
   "outputs": [
    {
     "name": "stdout",
     "output_type": "stream",
     "text": [
      "<think>\n",
      "Okay, so I need to understand the basics of Python programming based on this overview. Let's break it down step by step.\n",
      "\n",
      "First, Python is a high-level language that was created in 1991 by Guido van Rossum. It's known for being easy to read and write, which makes it popular among developers. I've heard terms like \"dynamically typed\" before; that means variables don't need explicit types, right? So you can assign any type of data to a variable without declaring its type first.\n",
      "\n",
      "Python is interpreted, not compiled, so the code runs directly without needing an extra step after writing it. This makes it faster to develop compared to compiled languages like Java or C++. It's also cross-platform, meaning it works on Windows, macOS, Linux, and other operating systems without much hassle.\n",
      "\n",
      "The language supports multiple programming paradigms: procedural, object-oriented, and scripting. Procedural is straightforward, doing things step by step. Object-Oriented Programming (OOP) uses classes and objects to structure code, which I think helps in managing complexity as projects grow. Scripting allows creating standalone programs that can run without user intervention.\n",
      "\n",
      "Python has a rich standard library with modules for various tasks like math operations, file handling, networking, regular expressions, etc. Plus, there's the option to extend it with third-party libraries via packages like pip, which is how most of the additional functionality comes into play.\n",
      "\n",
      "The syntax is clean and readable, often called \"executable pseudocode.\" It uses indentation instead of braces for block grouping, so code blocks are determined by how they're indented. This can be a bit tricky at first but makes the code more visually distinct and easier to read once you get used to it.\n",
      "\n",
      "Python has versions like 3.x and 2.x. Version 3 is the latest as of now (version 3.10), while version 2 was last released in 2020. Versioning can be confusing, but I think Python 3 is more modern with better features and support.\n",
      "\n",
      "The community is huge, which means a lot of resources, tutorials, documentation, and forums like Stack Overflow where you can ask questions and get help from others. This makes learning easier and provides extensive support when stuck.\n",
      "\n",
      "Python is widely used in various fields: web development (Django, Flask), data analysis with libraries like Pandas and NumPy, machine learning with Scikit-learn, automation scripts, scientific computing, and more. It's versatile because of its flexibility and the availability of libraries for different needs.\n",
      "\n",
      "One thing I'm not sure about is how to handle dynamic typing since it's a feature that can be both a strength and a weakness depending on the situation. Also, while Python is interpreted, some operations might still take time compared to compiled languages, but given its ease of use, it's often worth it for development tasks.\n",
      "\n",
      "I should also consider performance aspects—how does Python handle large datasets or complex computations? I know libraries like NumPy and Pandas are optimized for performance, so maybe that's where the strength lies. But without them, pure Python might be slower for certain tasks.\n",
      "\n",
      "Another point is versioning. Since there are two major versions (2.x and 3.x), migrating from Python 2 to 3 can sometimes cause issues because syntax changes. I should look into how to handle such migrations if needed in the future.\n",
      "\n",
      "Overall, Python seems like a powerful tool with a broad range of applications. Its simplicity makes it accessible for beginners while its depth allows experienced developers to tackle complex problems efficiently.\n",
      "</think>\n",
      "\n",
      "Python is a high-level, interpreted programming language known for its simplicity and readability. Created by Guido van Rossum in 1991, it has become widely popular due to its dynamic typing, ease of use, and cross-platform compatibility across Windows, macOS, and Linux.\n",
      "\n",
      "Key features include:\n",
      "\n",
      "1. **Dynamic Typing**: Variables don't need explicit types; Python infers them automatically.\n",
      "2. **Interpreted Execution**: Unlike compiled languages, Python code runs directly without prior compilation.\n",
      "3. **Cross-Platform**: Works seamlessly on various operating systems.\n",
      "4. **Multi-Paradigm**: Supports procedural, object-oriented, and scripting approaches.\n",
      "\n",
      "Python's standard library is extensive, offering modules for math, file handling, networking, regular expressions, etc., with additional capabilities through third-party libraries installed via pip.\n",
      "\n",
      "The syntax is clean and readable, using indentation instead of braces. Python 3.x (latest as of now) offers modern features over its predecessor, which was last released in 2020. The vibrant community provides extensive resources, including tutorials, documentation, and forums like Stack Overflow.\n",
      "\n",
      "Python's versatility extends to web development, data analysis, machine learning, automation, and scientific computing due to libraries like Django, Flask, Pandas, NumPy, and Scikit-learn.\n",
      "\n",
      "While dynamic typing can be a feature, Python often balances ease of use with performance through optimized libraries. Migrating from Python 2 to 3 may require attention to syntax changes.\n",
      "\n",
      "In summary, Python is a powerful tool for various applications, offering both accessibility for beginners and depth for experienced developers.\n"
     ]
    }
   ],
   "source": [
    "from langchain_core.prompts import PromptTemplate\n",
    "\n",
    "prompt_template = PromptTemplate.from_template(\n",
    "    \"Tell me {adjective} infomation about {topic}.\"\n",
    ")\n",
    "\n",
    "llmmodelprompt = prompt_template.format(\n",
    "    adjective = 'overview',\n",
    "    topic = 'Python programming'\n",
    ")\n",
    "\n",
    "response = model.invoke(llmmodelprompt)\n",
    "print(response)"
   ]
  },
  {
   "cell_type": "code",
   "execution_count": 25,
   "id": "0c6f3ca9",
   "metadata": {},
   "outputs": [
    {
     "name": "stdout",
     "output_type": "stream",
     "text": [
      "<think>\n",
      "Okay, so I need to understand the basics of Python programming based on this overview. Let's break it down step by step.\n",
      "\n",
      "First, Python is a high-level language that was created in 1991 by Guido van Rossum. It's known for being easy to read and write, which makes it popular among developers. I've heard terms like \"dynamically typed\" before; that means variables don't need explicit type declarations, right? So you can assign any data type to a variable without declaring it first.\n",
      "\n",
      "Python is interpreted, not compiled, so the code runs directly without needing an extra step after writing it. This makes it faster to develop compared to compiled languages like Java or C++. It's also cross-platform, meaning it can run on different operating systems without much hassle. That's useful because I might need to share my code with others who have different OS setups.\n",
      "\n",
      "Python is often referred to as a \"scripting language\" but is versatile enough for various tasks like web development, data analysis, and more. It has libraries and frameworks that extend its capabilities. Libraries are packages of functions that add specific functionalities. For example, the standard library includes modules like math, which provides mathematical functions, or datetime for handling dates.\n",
      "\n",
      "I've heard about popular third-party libraries like NumPy, Pandas, Matplotlib, and Scikit-learn. These must be used for tasks such as numerical operations, data analysis, visualization, and machine learning respectively. I should look into each of these to see how they fit into my projects.\n",
      "\n",
      "Python's syntax is clean and readable, which makes it a good choice for beginners but also powerful enough for experienced developers. It uses indentation instead of braces for block grouping, so the code structure relies on consistent indentation. That can be tricky at first but gets easier with practice.\n",
      "\n",
      "The main object in Python is the \"object,\" which supports data encapsulation and inheritance. Encapsulation allows us to bundle data with methods that operate on that data, making it more secure and manageable. Inheritance lets classes inherit properties from other classes, promoting code reuse.\n",
      "\n",
      "Python has a standard library and third-party packages. The standard library includes modules for various purposes like file handling, networking, regular expressions, etc., while third-party packages are contributed by the community. I can install these using package managers like pip or conda, which is part of Anaconda.\n",
      "\n",
      "Version control with Git is essential in Python development. It helps track changes and collaborate on code. Using platforms like GitHub makes version control easier for teams.\n",
      "\n",
      "Python's ecosystem includes tools like Jupyter Notebooks for interactive computing, Docker for containerization, and virtual environments to manage project dependencies safely.\n",
      "\n",
      "I should also consider the future of Python. It's actively developed with regular updates, including new features and security patches. The community is large and active, which means good support and resources are available.\n",
      "\n",
      "In summary, Python is a versatile, easy-to-use language that's widely adopted for its simplicity and powerful libraries. It's great for learning programming concepts and also suitable for professional applications.\n",
      "</think>\n",
      "\n",
      "Python is a high-level, interpreted programming language known for its simplicity and versatility. Created in 1991 by Guido van Rossum, it has become popular due to its readability and ease of use. Python supports dynamic typing, making variable declaration straightforward, and is interpreted rather than compiled, which accelerates development. It runs on multiple operating systems and is versatile for various tasks, from web development to data analysis.\n",
      "\n",
      "Python's standard library includes essential modules like math and datetime, while third-party libraries such as NumPy, Pandas, Matplotlib, and Scikit-learn extend its capabilities in numerical operations, data analysis, visualization, and machine learning. Its clean syntax uses indentation instead of braces, promoting readability. Python objects encapsulate data with methods (encapsulation) and support inheritance for code reuse.\n",
      "\n",
      "Version control tools like Git are integral to Python development, often used with platforms such as GitHub. The language's ecosystem includes interactive environments like Jupyter Notebooks and tools for containerization and dependency management. Python is actively developed, ensuring updates and a robust community support system.\n",
      "\n",
      "In summary, Python is an excellent choice for both learning programming concepts and professional applications, offering a balance of simplicity and power through its extensive library support and active development.\n"
     ]
    }
   ],
   "source": [
    "from langchain_ollama import ChatOllama\n",
    "\n",
    "model = ChatOllama(model=deepseek, temperature=0.1)\n",
    "response = model.invoke(llmmodelprompt)\n",
    "print(response.content)"
   ]
  },
  {
   "cell_type": "code",
   "execution_count": 27,
   "id": "8701f7c5",
   "metadata": {},
   "outputs": [
    {
     "name": "stdout",
     "output_type": "stream",
     "text": [
      "The capital of France is Paris.\n"
     ]
    }
   ],
   "source": [
    "template = ChatPromptTemplate.from_messages([\n",
    "    (\"system\", \"You are a helpful assistant.You provide all the relevant information.\"),\n",
    "    (\"human\", \"{question}\"),\n",
    "    (\"assistant\", \"Let's think step by step.\"),\n",
    "])\n",
    "\n",
    "llmmodelprompt = template.format(\n",
    "    question=\"What is the capital of France?\"\n",
    ") \n",
    "\n",
    "res = model.invoke(llmmodelprompt)\n",
    "print(remove_think(res.content))"
   ]
  },
  {
   "cell_type": "code",
   "execution_count": 30,
   "id": "4c59146a",
   "metadata": {},
   "outputs": [
    {
     "name": "stdout",
     "output_type": "stream",
     "text": [
      "<think>\n",
      "Okay, so I need to figure out what the capital of France is. Hmm, I remember learning about capitals in school, but let me think carefully.\n",
      "\n",
      "First off, I know that Paris is a major city in France. It's famous for landmarks like the Eiffel Tower and the Louvre Museum. People often go there for travel or tourism. But wait, is it the capital? I'm pretty sure it is, but maybe I should double-check to be sure.\n",
      "\n",
      "I recall that capitals are usually the largest cities in a country because they tend to have more government functions. France has been an independent nation since the 18th century, so its history might influence where the capital is located. Paris was already a significant city before it became the capital, so that makes sense.\n",
      "\n",
      "Let me think about other countries I know. For example, Germany's capital is Berlin, which is also one of its largest cities. Similarly, Italy's capital is Rome, and Spain's is Madrid. So following this pattern, France's capital should be its largest city as well.\n",
      "\n",
      "I can't remember any major cities in France that are bigger than Paris. Lyon comes to mind sometimes, but it's not even close in size. The same goes for Marseille or Nice; they're smaller towns compared to Paris.\n",
      "\n",
      "Also, considering the political aspect, the government departments like the President and Prime Minister would be located there. That further confirms that Paris is the capital.\n",
      "\n",
      "I think I'm pretty confident now that Paris is indeed the capital of France.\n",
      "</think>\n",
      "\n",
      "The capital of France is Paris.\n"
     ]
    }
   ],
   "source": [
    "from langchain_core.messages import SystemMessage\n",
    "from langchain_core.prompts import HumanMessagePromptTemplate\n",
    "\n",
    "chattemplate = ChatPromptTemplate.from_messages([\n",
    "    SystemMessage(content=\"You are a helpful assistant.\"),\n",
    "    HumanMessagePromptTemplate.from_template(\"{question}\"),\n",
    "])\n",
    "\n",
    "message = chattemplate.format_messages(\n",
    "    question=\"What is the capital of France?\"\n",
    ")\n",
    "response = model.invoke(message)\n",
    "print(response.content)"
   ]
  },
  {
   "cell_type": "code",
   "execution_count": 34,
   "id": "b865c1b9",
   "metadata": {},
   "outputs": [
    {
     "data": {
      "text/plain": [
       "AIMessage(content=\"<think>\\n\\n</think>\\n\\nSure! Could you please provide the question you'd like me to answer?\", additional_kwargs={}, response_metadata={'model': 'deepseek-r1:7b', 'created_at': '2025-07-17T17:43:28.4701876Z', 'done': True, 'done_reason': 'stop', 'total_duration': 5451420300, 'load_duration': 4379607100, 'prompt_eval_count': 4, 'prompt_eval_duration': 331170900, 'eval_count': 20, 'eval_duration': 739438000, 'model_name': 'deepseek-r1:7b'}, id='run--735cb1b1-82e0-4404-9f34-9af4b3c0686f-0', usage_metadata={'input_tokens': 4, 'output_tokens': 20, 'total_tokens': 24})"
      ]
     },
     "execution_count": 34,
     "metadata": {},
     "output_type": "execute_result"
    }
   ],
   "source": [
    "from langchain_core.prompts import FewShotChatMessagePromptTemplate\n",
    "\n",
    "examples = [\n",
    "    {'question':\"What is the capital of France?\",'answer': \"The capital of France is Paris.\"},\n",
    "    {'question' : \"What is the capital of Germany?\", 'answer': \"The capital of Germany is Berlin.\"},\n",
    "]\n",
    "example_prompts = ChatPromptTemplate.from_messages([\n",
    "    (\"human\", \"{question}\"),\n",
    "    (\"assistant\", \"{answer}\"),\n",
    "]) \n",
    "\n",
    "fewshotprompt = FewShotChatMessagePromptTemplate(\n",
    "    examples=examples,\n",
    "    example_prompt=example_prompts)\n",
    "\n",
    "final_prompt = ChatPromptTemplate.from_messages\n",
    "([\n",
    "    (\"system\", \"You are a helpful assistant.\"),\n",
    "    fewshotprompt,\n",
    "    (\"human\", \"{question}\"),\n",
    "])\n",
    "\n",
    "chain = final_prompt | model\n",
    "\n",
    "chain.invoke({\n",
    "    \"question\": \"What is the capital of Italy?\"\n",
    "    }\n",
    ")\n"
   ]
  },
  {
   "cell_type": "code",
   "execution_count": null,
   "id": "5ebff4e7",
   "metadata": {},
   "outputs": [],
   "source": []
  }
 ],
 "metadata": {
  "kernelspec": {
   "display_name": "base",
   "language": "python",
   "name": "python3"
  },
  "language_info": {
   "codemirror_mode": {
    "name": "ipython",
    "version": 3
   },
   "file_extension": ".py",
   "mimetype": "text/x-python",
   "name": "python",
   "nbconvert_exporter": "python",
   "pygments_lexer": "ipython3",
   "version": "3.12.7"
  }
 },
 "nbformat": 4,
 "nbformat_minor": 5
}
