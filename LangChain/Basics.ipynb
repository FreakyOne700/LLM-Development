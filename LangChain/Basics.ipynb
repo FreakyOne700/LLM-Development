{
 "cells": [
  {
   "cell_type": "code",
   "execution_count": null,
   "id": "5f83bab8",
   "metadata": {},
   "outputs": [
    {
     "name": "stdout",
     "output_type": "stream",
     "text": [
      "models=[Model(model='deepseek-r1:7b', modified_at=datetime.datetime(2025, 6, 13, 0, 19, 26, 696445, tzinfo=TzInfo(+05:30)), digest='755ced02ce7befdb13b7ca74e1e4d08cddba4986afdb63a480f2c93d3140383f', size=4683075440, details=ModelDetails(parent_model='', format='gguf', family='qwen2', families=['qwen2'], parameter_size='7.6B', quantization_level='Q4_K_M')), Model(model='qwen2.5-coder:latest', modified_at=datetime.datetime(2025, 5, 27, 10, 5, 14, 992503, tzinfo=TzInfo(+05:30)), digest='2b0496514337a3d5901f1d253d01726c890b721e891335a56d6e08cedf3e2cb0', size=4683087519, details=ModelDetails(parent_model='', format='gguf', family='qwen2', families=['qwen2'], parameter_size='7.6B', quantization_level='Q4_K_M'))]\n"
     ]
    }
   ],
   "source": [
    "import ollama\n",
    "print(ollama.list())"
   ]
  },
  {
   "cell_type": "code",
   "execution_count": 5,
   "id": "1927fceb",
   "metadata": {},
   "outputs": [],
   "source": [
    "deepseek = 'deepseek-r1:7b'"
   ]
  },
  {
   "cell_type": "code",
   "execution_count": null,
   "id": "4d2bd28f",
   "metadata": {},
   "outputs": [],
   "source": [
    "ollama.chat(deepseek),"
   ]
  }
 ],
 "metadata": {
  "kernelspec": {
   "display_name": "base",
   "language": "python",
   "name": "python3"
  },
  "language_info": {
   "codemirror_mode": {
    "name": "ipython",
    "version": 3
   },
   "file_extension": ".py",
   "mimetype": "text/x-python",
   "name": "python",
   "nbconvert_exporter": "python",
   "pygments_lexer": "ipython3",
   "version": "3.12.7"
  }
 },
 "nbformat": 4,
 "nbformat_minor": 5
}
